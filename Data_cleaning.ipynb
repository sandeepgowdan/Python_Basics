{
 "cells": [
  {
   "cell_type": "code",
   "execution_count": 1,
   "id": "347599fe",
   "metadata": {},
   "outputs": [],
   "source": [
    "import pandas as pd\n",
    "import matplotlib.pyplot as plt\n",
    "import os"
   ]
  },
  {
   "cell_type": "code",
   "execution_count": 2,
   "id": "d3194b87",
   "metadata": {},
   "outputs": [],
   "source": [
    "# Set the desired working directory\n",
    "change_directory = 'C:\\\\Users\\\\windows\\\\OneDrive\\\\Desktop'\n",
    "\n",
    "# Change the working directory\n",
    "os.chdir(change_directory)"
   ]
  },
  {
   "cell_type": "code",
   "execution_count": 3,
   "id": "4bd19de7",
   "metadata": {},
   "outputs": [],
   "source": [
    "# Load the data\n",
    "data = pd.read_csv(\"MaizeRILs_miss.csv\")     ### Read from Excel file        df = pd.read_excel('data.xlsx')\n",
    "# Create a DataFrame\n",
    "df = pd.DataFrame(data)"
   ]
  },
  {
   "cell_type": "code",
   "execution_count": 9,
   "id": "a16eb47e",
   "metadata": {},
   "outputs": [
    {
     "name": "stdout",
     "output_type": "stream",
     "text": [
      "Are there missing values in the DataFrame? location    False\n",
      "rep         False\n",
      "block       False\n",
      "plot        False\n",
      "RIL         False\n",
      "pollen       True\n",
      "silking      True\n",
      "ASI          True\n",
      "height      False\n",
      "dtype: bool\n"
     ]
    }
   ],
   "source": [
    "# Check if there are any missing values in the DataFrame\n",
    "missing_values = df.isnull().any()\n",
    "\n",
    "print(\"Are there missing values in the DataFrame?\", missing_values)"
   ]
  },
  {
   "cell_type": "code",
   "execution_count": 10,
   "id": "fac1ff1b",
   "metadata": {},
   "outputs": [
    {
     "name": "stdout",
     "output_type": "stream",
     "text": [
      "Missing Values:\n",
      "location     0\n",
      "rep          0\n",
      "block        0\n",
      "plot         0\n",
      "RIL          0\n",
      "pollen       1\n",
      "silking      9\n",
      "ASI         11\n",
      "height       0\n",
      "dtype: int64\n"
     ]
    }
   ],
   "source": [
    "# Check for missing values and sum them up\n",
    "missing_values = df.isnull().sum()\n",
    "# Print the missing values\n",
    "print(\"Missing Values:\")\n",
    "print(missing_values)"
   ]
  },
  {
   "cell_type": "code",
   "execution_count": 12,
   "id": "f1016ddd",
   "metadata": {},
   "outputs": [
    {
     "name": "stdout",
     "output_type": "stream",
     "text": [
      "  location  rep  block  plot     RIL  pollen  silking  ASI  height\n",
      "0      ARC    1      1     1  RIL-53    74.0     77.0  3.0   184.8\n",
      "1      ARC    1      1     2  RIL-40    75.0     75.0  0.0   225.2\n",
      "2      ARC    1      1     4  RIL-41    74.0     74.0  0.0   174.4\n",
      "3      ARC    1      1     5  RIL-28    69.0     71.0  2.0   147.6\n",
      "4      ARC    1      1     6  RIL-11    69.0     71.0  2.0   181.6\n"
     ]
    }
   ],
   "source": [
    "# Remove rows with missing values\n",
    "cleaned_df = df.dropna()\n",
    "print(cleaned_df.head())"
   ]
  },
  {
   "cell_type": "code",
   "execution_count": 13,
   "id": "9e1e658d",
   "metadata": {},
   "outputs": [
    {
     "name": "stdout",
     "output_type": "stream",
     "text": [
      "Missing values imputed and cleaned dataset saved to 'cleaned_dataset.csv'.\n"
     ]
    }
   ],
   "source": [
    "# Create a new DataFrame to store the cleaned dataset\n",
    "cleaned_df = df.copy()\n",
    "\n",
    "# Impute missing values\n",
    "for column in cleaned_df.columns:\n",
    "    if cleaned_df[column].dtype == 'object':  # categorical columns\n",
    "        cleaned_df[column].fillna(cleaned_df[column].mode()[0], inplace=True)\n",
    "    else:  # numerical columns\n",
    "        cleaned_df[column].fillna(cleaned_df[column].mean(), inplace=True)\n",
    "\n",
    "# Print a message indicating the operation is complete\n",
    "print(\"Missing values imputed and cleaned dataset saved to 'cleaned_dataset.csv'.\")\n"
   ]
  },
  {
   "cell_type": "code",
   "execution_count": 14,
   "id": "215775d4",
   "metadata": {},
   "outputs": [
    {
     "name": "stdout",
     "output_type": "stream",
     "text": [
      "  location  rep  block  plot     RIL  pollen  silking  ASI  height\n",
      "0      ARC    1      1     1  RIL-53    74.0     77.0  3.0   184.8\n",
      "1      ARC    1      1     2  RIL-40    75.0     75.0  0.0   225.2\n",
      "2      ARC    1      1     4  RIL-41    74.0     74.0  0.0   174.4\n",
      "3      ARC    1      1     5  RIL-28    69.0     71.0  2.0   147.6\n",
      "4      ARC    1      1     6  RIL-11    69.0     71.0  2.0   181.6\n"
     ]
    }
   ],
   "source": [
    "# View the head of the cleaned DataFrame\n",
    "print(cleaned_df.head())"
   ]
  },
  {
   "cell_type": "code",
   "execution_count": null,
   "id": "1aaa1568",
   "metadata": {},
   "outputs": [],
   "source": []
  }
 ],
 "metadata": {
  "kernelspec": {
   "display_name": "Python 3 (ipykernel)",
   "language": "python",
   "name": "python3"
  },
  "language_info": {
   "codemirror_mode": {
    "name": "ipython",
    "version": 3
   },
   "file_extension": ".py",
   "mimetype": "text/x-python",
   "name": "python",
   "nbconvert_exporter": "python",
   "pygments_lexer": "ipython3",
   "version": "3.9.13"
  }
 },
 "nbformat": 4,
 "nbformat_minor": 5
}
